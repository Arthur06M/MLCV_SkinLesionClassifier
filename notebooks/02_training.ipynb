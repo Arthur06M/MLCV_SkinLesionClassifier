{
 "cells": [
  {
   "cell_type": "code",
   "execution_count": 1,
   "id": "999ac75a-08b9-4cbb-9f04-59b4536230f5",
   "metadata": {},
   "outputs": [],
   "source": [
    "import pandas as pd\n",
    "import torch\n",
    "import torch.nn as nn\n",
    "import torch.optim as optim\n",
    "from torch.utils.data import DataLoader\n",
    "\n",
    "from src.dataset import SkinLesionDataset\n",
    "from src.model import create_model\n",
    "from src.transforms import get_train_transform, get_val_transform\n",
    "from src.train import train_epoch, validate\n",
    "from sklearn.model_selection import train_test_split\n",
    "\n",
    "from sklearn.metrics import confusion_matrix, classification_report\n",
    "import matplotlib.pyplot as plt\n",
    "import seaborn as sns\n"
   ]
  },
  {
   "cell_type": "code",
   "execution_count": 2,
   "id": "511d21c2-aece-44cb-887a-f3f76496b5df",
   "metadata": {},
   "outputs": [
    {
     "name": "stdout",
     "output_type": "stream",
     "text": [
      "Train: 6981 images from 5229 lesions\n",
      "Val: 1532 images from 1120 lesions\n",
      "Test: 1502 images from 1121 lesions\n",
      "\n",
      "Class distribution:\n",
      "Train: dx\n",
      "nv       0.671\n",
      "mel      0.111\n",
      "bkl      0.111\n",
      "bcc      0.052\n",
      "akiec    0.032\n",
      "vasc     0.014\n",
      "df       0.010\n",
      "Name: proportion, dtype: float64\n",
      "Val: dx\n",
      "nv       0.664\n",
      "mel      0.113\n",
      "bkl      0.104\n",
      "bcc      0.054\n",
      "akiec    0.035\n",
      "df       0.016\n",
      "vasc     0.014\n",
      "Name: proportion, dtype: float64\n"
     ]
    }
   ],
   "source": [
    "df_meta = pd.read_csv('../data/HAM10000_metadata.csv')\n",
    "img_dirs = ['../data/HAM10000_images_part_1', '../data/HAM10000_images_part_2']\n",
    "\n",
    "lesion_to_dx = df_meta.groupby('lesion_id')['dx'].first()\n",
    "\n",
    "# Split by lesion_ids (stratified by diagnosis)\n",
    "train_lesions, temp_lesions = train_test_split(\n",
    "    lesion_to_dx.index, \n",
    "    test_size=0.3, \n",
    "    stratify=lesion_to_dx.values, \n",
    "    random_state=42\n",
    ")\n",
    "val_lesions, test_lesions = train_test_split(\n",
    "    temp_lesions,\n",
    "    test_size=0.5,\n",
    "    stratify=lesion_to_dx[temp_lesions].values,\n",
    "    random_state=42\n",
    ")\n",
    "# Filter dataframe by lesion groups\n",
    "train_df = df_meta[df_meta['lesion_id'].isin(train_lesions)]\n",
    "val_df = df_meta[df_meta['lesion_id'].isin(val_lesions)]\n",
    "test_df = df_meta[df_meta['lesion_id'].isin(test_lesions)]\n",
    "\n",
    "print(f\"Train: {len(train_df)} images from {len(train_lesions)} lesions\")\n",
    "print(f\"Val: {len(val_df)} images from {len(val_lesions)} lesions\")\n",
    "print(f\"Test: {len(test_df)} images from {len(test_lesions)} lesions\")\n",
    "\n",
    "print(\"\\nClass distribution:\")\n",
    "print(\"Train:\", train_df['dx'].value_counts(normalize=True).round(3))\n",
    "print(\"Val:\", val_df['dx'].value_counts(normalize=True).round(3))"
   ]
  },
  {
   "cell_type": "code",
   "execution_count": 3,
   "id": "979d4cf2-df3a-49c3-b38e-0e2170c57365",
   "metadata": {},
   "outputs": [],
   "source": [
    "train_df.to_csv('../data/train_split.csv', index=False)\n",
    "val_df.to_csv('../data/val_split.csv', index=False)\n",
    "test_df.to_csv('../data/test_split.csv', index=False)"
   ]
  },
  {
   "cell_type": "code",
   "execution_count": 4,
   "id": "70d64be5-6772-49bf-a60c-84c17e911746",
   "metadata": {},
   "outputs": [
    {
     "name": "stdout",
     "output_type": "stream",
     "text": [
      "torch.Size([3, 224, 224]) 2\n"
     ]
    }
   ],
   "source": [
    "train_dataset = SkinLesionDataset(train_df, img_dirs, transform=get_train_transform())\n",
    "img, label = train_dataset[0]\n",
    "print(img.shape, label)"
   ]
  },
  {
   "cell_type": "code",
   "execution_count": 5,
   "id": "684cd1a3-85b1-47f0-8b04-347c8b09133b",
   "metadata": {},
   "outputs": [
    {
     "name": "stdout",
     "output_type": "stream",
     "text": [
      "Batch shape: torch.Size([16, 3, 224, 224])\n",
      "Labels shape: torch.Size([16])\n"
     ]
    }
   ],
   "source": [
    "train_loader = DataLoader(train_dataset, batch_size=16, shuffle=True, num_workers=0)\n",
    "val_dataset = SkinLesionDataset(val_df, img_dirs, transform=get_val_transform())\n",
    "val_loader = DataLoader(val_dataset, batch_size=16, shuffle=False, num_workers=0)\n",
    "\n",
    "# Test batch loading\n",
    "images, labels = next(iter(train_loader))\n",
    "print(f\"Batch shape: {images.shape}\")\n",
    "print(f\"Labels shape: {labels.shape}\")"
   ]
  },
  {
   "cell_type": "code",
   "execution_count": 6,
   "id": "0a5d3c82-1f68-43fc-9b1a-0e449dffe990",
   "metadata": {},
   "outputs": [
    {
     "name": "stdout",
     "output_type": "stream",
     "text": [
      "Output shape: torch.Size([16, 7])\n"
     ]
    }
   ],
   "source": [
    "model = create_model()\n",
    "\n",
    "criterion = nn.CrossEntropyLoss()\n",
    "optimizer = optim.AdamW(model.parameters(), lr=1e-4)\n",
    "\n",
    "device = torch.device('cuda')\n",
    "model = model.to(device)\n",
    "\n",
    "# Test forward pass\n",
    "test_batch, _ = next(iter(train_loader))\n",
    "test_batch = test_batch.to(device)\n",
    "output = model(test_batch)\n",
    "print(f\"Output shape: {output.shape}\") "
   ]
  },
  {
   "cell_type": "markdown",
   "id": "3b154a54",
   "metadata": {},
   "source": [
    "## Training the Model"
   ]
  },
  {
   "cell_type": "code",
   "execution_count": 7,
   "id": "3cc44b50-7e66-4e50-80e2-d957b7e0742b",
   "metadata": {},
   "outputs": [
    {
     "name": "stdout",
     "output_type": "stream",
     "text": [
      "Epoch 1/8\n",
      "Train Loss: 0.7944, Train Acc: 72.93%\n",
      "Val Loss: 0.5378, Val Acc: 80.55%\n",
      "✓ Saved (val_loss improved)\n",
      "\n",
      "Epoch 2/8\n",
      "Train Loss: 0.4495, Train Acc: 83.97%\n",
      "Val Loss: 0.4493, Val Acc: 83.88%\n",
      "✓ Saved (val_loss improved)\n",
      "\n",
      "Epoch 3/8\n",
      "Train Loss: 0.3070, Train Acc: 89.21%\n",
      "Val Loss: 0.4710, Val Acc: 84.01%\n",
      "No improvement (1/3)\n",
      "\n",
      "Epoch 4/8\n",
      "Train Loss: 0.2153, Train Acc: 92.82%\n",
      "Val Loss: 0.4590, Val Acc: 84.99%\n",
      "No improvement (2/3)\n",
      "\n",
      "Epoch 5/8\n",
      "Train Loss: 0.1486, Train Acc: 94.67%\n",
      "Val Loss: 0.5340, Val Acc: 84.01%\n",
      "No improvement (3/3)\n",
      "\n",
      "Early stopping triggered at epoch 5\n"
     ]
    }
   ],
   "source": [
    "# Training with early stopping\n",
    "num_epochs = 8\n",
    "patience = 3\n",
    "best_val_loss = float('inf')\n",
    "epochs_no_improve = 0\n",
    "\n",
    "for epoch in range(num_epochs):\n",
    "    train_loss, train_acc = train_epoch(model, train_loader, criterion, optimizer, device)\n",
    "    val_loss, val_acc = validate(model, val_loader, criterion, device)\n",
    "    \n",
    "    print(f\"Epoch {epoch+1}/{num_epochs}\")\n",
    "    print(f\"Train Loss: {train_loss:.4f}, Train Acc: {train_acc:.2f}%\")\n",
    "    print(f\"Val Loss: {val_loss:.4f}, Val Acc: {val_acc:.2f}%\")\n",
    "    \n",
    "    # Early stopping\n",
    "    if val_loss < best_val_loss:\n",
    "        best_val_loss = val_loss\n",
    "        epochs_no_improve = 0\n",
    "        torch.save(model.state_dict(), '../models/best_model.pth')\n",
    "        print(f\"✓ Saved (val_loss improved)\\n\")\n",
    "    else:\n",
    "        epochs_no_improve += 1\n",
    "        print(f\"No improvement ({epochs_no_improve}/{patience})\\n\")\n",
    "        \n",
    "        if epochs_no_improve >= patience:\n",
    "            print(f\"Early stopping triggered at epoch {epoch+1}\")\n",
    "            break"
   ]
  },
  {
   "cell_type": "markdown",
   "id": "f4a3d23a",
   "metadata": {},
   "source": [
    "## Model Predictions on Test Set"
   ]
  },
  {
   "cell_type": "code",
   "execution_count": 8,
   "id": "a13582c3-f4c7-4a9b-b2b1-e744821ddd77",
   "metadata": {},
   "outputs": [
    {
     "name": "stderr",
     "output_type": "stream",
     "text": [
      "C:\\Users\\33768\\AppData\\Local\\Temp\\ipykernel_28592\\2586917120.py:1: FutureWarning: You are using `torch.load` with `weights_only=False` (the current default value), which uses the default pickle module implicitly. It is possible to construct malicious pickle data which will execute arbitrary code during unpickling (See https://github.com/pytorch/pytorch/blob/main/SECURITY.md#untrusted-models for more details). In a future release, the default value for `weights_only` will be flipped to `True`. This limits the functions that could be executed during unpickling. Arbitrary objects will no longer be allowed to be loaded via this mode unless they are explicitly allowlisted by the user via `torch.serialization.add_safe_globals`. We recommend you start setting `weights_only=True` for any use case where you don't have full control of the loaded file. Please open an issue on GitHub for any issues related to this experimental feature.\n",
      "  model.load_state_dict(torch.load('../models/best_model.pth'))\n"
     ]
    },
    {
     "data": {
      "image/png": "[encoded data removed]",
      "text/plain": [
       "<Figure size 1000x800 with 2 Axes>"
      ]
     },
     "metadata": {},
     "output_type": "display_data"
    },
    {
     "name": "stdout",
     "output_type": "stream",
     "text": [
      "              precision    recall  f1-score   support\n",
      "\n",
      "       akiec      0.544     0.585     0.564        53\n",
      "         bcc      0.747     0.720     0.733        82\n",
      "         bkl      0.689     0.637     0.662       160\n",
      "          df      1.000     0.042     0.080        24\n",
      "         mel      0.713     0.590     0.646       173\n",
      "          nv      0.896     0.957     0.925      1018\n",
      "        vasc      0.941     0.727     0.821        22\n",
      "\n",
      "    accuracy                          0.839      1532\n",
      "   macro avg      0.790     0.608     0.633      1532\n",
      "weighted avg      0.836     0.839     0.829      1532\n",
      "\n"
     ]
    }
   ],
   "source": [
    "model.load_state_dict(torch.load('../models/best_model.pth'))\n",
    "model.eval()\n",
    "\n",
    "all_preds = []\n",
    "all_labels = []\n",
    "\n",
    "with torch.no_grad():\n",
    "    for images, labels in val_loader:\n",
    "        images = images.to(device)\n",
    "        outputs = model(images)\n",
    "        _, preds = outputs.max(1)\n",
    "        all_preds.extend(preds.cpu().numpy())\n",
    "        all_labels.extend(labels.numpy())\n",
    "\n",
    "cm = confusion_matrix(all_labels, all_preds)\n",
    "plt.figure(figsize=(10, 8))\n",
    "sns.heatmap(cm, annot=True, fmt='d', cmap='Blues', \n",
    "            xticklabels=train_dataset.classes, \n",
    "            yticklabels=train_dataset.classes)\n",
    "plt.xlabel('Predicted')\n",
    "plt.ylabel('True')\n",
    "plt.title('Confusion Matrix - Validation Set')\n",
    "plt.tight_layout()\n",
    "plt.show()\n",
    "\n",
    "print(classification_report(all_labels, all_preds, \n",
    "                          target_names=train_dataset.classes, \n",
    "                          digits=3))"
   ]
  },
  {
   "cell_type": "markdown",
   "id": "6b43595b",
   "metadata": {},
   "source": []
  },
  {
   "cell_type": "code",
   "execution_count": 9,
   "id": "07d16082-6a09-4e92-a65d-91f0674d89aa",
   "metadata": {},
   "outputs": [
    {
     "name": "stdout",
     "output_type": "stream",
     "text": [
      "akiec :  58.5% (53 samples)\n",
      "bcc   :  72.0% (82 samples)\n",
      "bkl   :  63.7% (160 samples)\n",
      "df    :   4.2% (24 samples)\n",
      "mel   :  59.0% (173 samples)\n",
      "nv    :  95.7% (1018 samples)\n",
      "vasc  :  72.7% (22 samples)\n"
     ]
    }
   ],
   "source": [
    "class_acc = cm.diagonal() / cm.sum(axis=1)\n",
    "for i, (cls, acc) in enumerate(zip(train_dataset.classes, class_acc)):\n",
    "    print(f\"{cls:6s}: {acc*100:5.1f}% ({cm[i].sum()} samples)\")"
   ]
  },
  {
   "cell_type": "markdown",
   "id": "19ad9a69-af90-40fe-b96f-34ab79a94c99",
   "metadata": {},
   "source": [
    "#### "
   ]
  }
 ],
 "metadata": {
  "kernelspec": {
   "display_name": "venv",
   "language": "python",
   "name": "python3"
  },
  "language_info": {
   "codemirror_mode": {
    "name": "ipython",
    "version": 3
   },
   "file_extension": ".py",
   "mimetype": "text/x-python",
   "name": "python",
   "nbconvert_exporter": "python",
   "pygments_lexer": "ipython3",
   "version": "3.11.9"
  }
 },
 "nbformat": 4,
 "nbformat_minor": 5
}
